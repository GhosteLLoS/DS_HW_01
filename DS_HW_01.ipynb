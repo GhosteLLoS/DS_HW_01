{
 "cells": [
  {
   "cell_type": "code",
   "execution_count": 6,
   "id": "fd2353a2-9611-4564-8c78-94e35dd80106",
   "metadata": {},
   "outputs": [],
   "source": [
    "Data Science Homework #1\n",
    "\n"
   ]
  },
  {
   "cell_type": "code",
   "execution_count": null,
   "id": "a344b433-69ad-47a9-9789-9b01812410e4",
   "metadata": {},
   "outputs": [],
   "source": [
    "1. Створіть одновимірний масив (вектор) з першими 10-ма натуральними числами та виведіть його значення."
   ]
  },
  {
   "cell_type": "code",
   "execution_count": 45,
   "id": "06c547b3-18a7-42c5-901a-c6f96a06e3b1",
   "metadata": {},
   "outputs": [
    {
     "name": "stdout",
     "output_type": "stream",
     "text": [
      "[ 1  2  3  4  5  6  7  8  9 10]\n"
     ]
    }
   ],
   "source": [
    "import numpy as np\n",
    "\n",
    "a = np.array(range(1, 11))\n",
    "\n",
    "print(a)"
   ]
  },
  {
   "cell_type": "code",
   "execution_count": null,
   "id": "e3171f8b-62af-4b91-a8c4-5e59042046a9",
   "metadata": {},
   "outputs": [],
   "source": [
    "2. Створіть двовимірний масив (матрицю) розміром 3x3, заповніть його нулями та виведіть його значення."
   ]
  },
  {
   "cell_type": "code",
   "execution_count": 46,
   "id": "cc7c6df2-450b-463d-beb4-3c16ab227766",
   "metadata": {},
   "outputs": [
    {
     "name": "stdout",
     "output_type": "stream",
     "text": [
      "[[0 0 0]\n",
      " [0 0 0]\n",
      " [0 0 0]]\n"
     ]
    }
   ],
   "source": [
    "a = np.zeros((3,3), dtype=int)\n",
    "\n",
    "print(a)"
   ]
  },
  {
   "cell_type": "code",
   "execution_count": null,
   "id": "184b1f71-8cff-4675-bd1c-b6f0d46f0e02",
   "metadata": {},
   "outputs": [],
   "source": [
    "3. Створіть масив розміром 5x5, заповніть його випадковими цілими числами в діапазоні від 1 до 10 та виведіть його значення."
   ]
  },
  {
   "cell_type": "code",
   "execution_count": 47,
   "id": "f71cdc8c-ff2e-439c-aeca-56f2ac1f5693",
   "metadata": {},
   "outputs": [
    {
     "name": "stdout",
     "output_type": "stream",
     "text": [
      "[[ 2  9  1  1  9]\n",
      " [ 6  1 10  3  3]\n",
      " [ 1 10  6  4  8]\n",
      " [ 2  4  1  8  3]\n",
      " [ 2  9  2 10  7]]\n"
     ]
    }
   ],
   "source": [
    "b = np.random.randint(1, 11, (5, 5))\n",
    "print(b)"
   ]
  },
  {
   "cell_type": "code",
   "execution_count": null,
   "id": "e1af558a-bb55-4eab-b784-aff804181d6b",
   "metadata": {},
   "outputs": [],
   "source": [
    "4. Створіть масив розміром 4x4, заповніть його випадковими дійсними числами в діапазоні від 0 до 1 та виведіть його значення."
   ]
  },
  {
   "cell_type": "code",
   "execution_count": 48,
   "id": "33508637-a9f6-44bb-aff5-1d7b1fbda071",
   "metadata": {},
   "outputs": [
    {
     "name": "stdout",
     "output_type": "stream",
     "text": [
      "[[0 0 1 0]\n",
      " [0 0 0 0]\n",
      " [0 0 0 0]\n",
      " [0 0 1 0]]\n"
     ]
    }
   ],
   "source": [
    "b = np.random.randint(0, 2, (4, 4), dtype=int)\n",
    "print(b)"
   ]
  },
  {
   "cell_type": "code",
   "execution_count": null,
   "id": "40c7e0a7-cfa6-42a6-934b-4a52504231b4",
   "metadata": {},
   "outputs": [],
   "source": [
    "5. Створіть два одновимірних масиви розміром 5, заповніть їх випадковими цілими числами в діапазоні від 1 до 10 та виконайте на них поелементні операції додавання, віднімання та множення."
   ]
  },
  {
   "cell_type": "code",
   "execution_count": 17,
   "id": "c3389e00-c103-4c6b-83ff-22ebce10f9d2",
   "metadata": {},
   "outputs": [
    {
     "name": "stdout",
     "output_type": "stream",
     "text": [
      "[6 2 2 5 3]\n",
      "[ 6  4 10  9  7]\n",
      "Додавання - [12  6 12 14 10]\n",
      "Віднімання - [ 0 -2 -8 -4 -4]\n",
      "Множення - [36  8 20 45 21]\n"
     ]
    }
   ],
   "source": [
    "a = np.random.randint (1, 11, 5, dtype = int)\n",
    "b = np.random.randint (1, 11, 5, dtype = int)\n",
    "print(a)\n",
    "print(b)\n",
    "print(f\"Додавання - {a+b}\")\n",
    "print(f\"Віднімання - {a-b}\")\n",
    "print(f\"Множення - {a*b}\")"
   ]
  },
  {
   "cell_type": "code",
   "execution_count": null,
   "id": "788d18f7-6c2d-4951-8e64-0633f8d447d4",
   "metadata": {},
   "outputs": [],
   "source": [
    "6. Створіть два вектори розміром 7, заповніть довільними числами та знайдіть їх скалярний добуток."
   ]
  },
  {
   "cell_type": "code",
   "execution_count": 18,
   "id": "7bd77e2a-584d-4bf2-94ab-152e6318319e",
   "metadata": {},
   "outputs": [
    {
     "name": "stdout",
     "output_type": "stream",
     "text": [
      "[0.71255862 0.97265081 0.01427258 0.71441535 0.33889633 0.63172498\n",
      " 0.22010147]\n",
      "[0.7606871  0.00847749 0.90823519 0.48751075 0.65182998 0.26777931\n",
      " 0.72556184]\n",
      "1.4612907004796778\n"
     ]
    }
   ],
   "source": [
    "a = np.random.rand(7)\n",
    "b = np.random.rand(7)\n",
    "print(a)\n",
    "print(b)\n",
    "c = np.dot(a, b)\n",
    "print(c)"
   ]
  },
  {
   "cell_type": "code",
   "execution_count": null,
   "id": "70b0994b-e5ee-4f3c-b811-70081ca53253",
   "metadata": {},
   "outputs": [],
   "source": [
    "7. Створіть дві матриці розміром 2x2 та 2x3, заповніть їх випадковими цілими числами в діапазоні від 1 до 10 та перемножте їх між собою."
   ]
  },
  {
   "cell_type": "code",
   "execution_count": 19,
   "id": "59404ad1-ab7c-4ba4-9bdc-9ae721d0fef5",
   "metadata": {
    "scrolled": true
   },
   "outputs": [
    {
     "name": "stdout",
     "output_type": "stream",
     "text": [
      "[[6 7]\n",
      " [7 4]]\n",
      "[[ 4  4  3]\n",
      " [ 3 10  2]]\n",
      "[[45 94 32]\n",
      " [40 68 29]]\n"
     ]
    }
   ],
   "source": [
    "a = np.random.randint(1,11, (2,2))\n",
    "b = np.random.randint(1,11, (2,3))\n",
    "print(a)       \n",
    "print(b)  \n",
    "c = np.dot(a, b)\n",
    "print(c)"
   ]
  },
  {
   "cell_type": "code",
   "execution_count": null,
   "id": "8f1c337d-fcbc-4da5-8016-9386e4762031",
   "metadata": {},
   "outputs": [],
   "source": [
    "8. Створіть матрицю розміром 3x3, заповніть її випадковими цілими числами в діапазоні від 1 до 10 та знайдіть її обернену матрицю."
   ]
  },
  {
   "cell_type": "code",
   "execution_count": 20,
   "id": "fe3f78a7-7438-4ddb-916f-5d6e72589046",
   "metadata": {
    "scrolled": true
   },
   "outputs": [
    {
     "name": "stdout",
     "output_type": "stream",
     "text": [
      "[[8 5 5]\n",
      " [4 3 5]\n",
      " [2 2 8]]\n",
      "[[ 1.16666667 -2.5         0.83333333]\n",
      " [-1.83333333  4.5        -1.66666667]\n",
      " [ 0.16666667 -0.5         0.33333333]]\n"
     ]
    }
   ],
   "source": [
    "a = np.random.randint(1, 11, (3, 3))\n",
    "print(a)\n",
    "a_inv = np.linalg.inv(a)\n",
    "print(a_inv)"
   ]
  },
  {
   "cell_type": "code",
   "execution_count": null,
   "id": "28152058-9818-4ec3-90bc-191429fb7881",
   "metadata": {},
   "outputs": [],
   "source": [
    "9. Створіть матрицю розміром 4x4, заповніть її випадковими дійсними числами в діапазоні від 0 до 1 та транспонуйте її."
   ]
  },
  {
   "cell_type": "code",
   "execution_count": 22,
   "id": "e9b19d85-00d9-4b90-ab4b-9fd297825027",
   "metadata": {},
   "outputs": [
    {
     "name": "stdout",
     "output_type": "stream",
     "text": [
      "[[1 1 0 0]\n",
      " [0 1 1 0]\n",
      " [1 1 1 1]\n",
      " [1 1 0 0]]\n",
      "[[1 0 1 1]\n",
      " [1 1 1 1]\n",
      " [0 1 1 0]\n",
      " [0 0 1 0]]\n"
     ]
    }
   ],
   "source": [
    "a = np.random.randint(0,2, (4,4),dtype=int)\n",
    "print(a)\n",
    "b = a.T\n",
    "print(b)"
   ]
  },
  {
   "cell_type": "code",
   "execution_count": null,
   "id": "518f69f6-5c6b-4b57-b926-47947c8a424e",
   "metadata": {},
   "outputs": [],
   "source": [
    "10. Створіть матрицю розміром 3x4 та вектор розміром 4, заповніть їх випадковими цілими числами в діапазоні від 1 до 10 та перемножте матрицю на вектор."
   ]
  },
  {
   "cell_type": "code",
   "execution_count": 24,
   "id": "89411d2f-c4ae-4428-8c02-d089d29cd982",
   "metadata": {},
   "outputs": [
    {
     "name": "stdout",
     "output_type": "stream",
     "text": [
      "[[10  1  5  7]\n",
      " [ 5  5  5  5]\n",
      " [ 8  3  6  3]]\n",
      "[ 5  5 10  1]\n",
      "[112 105 118]\n"
     ]
    }
   ],
   "source": [
    "a = np.random.randint(1,11, (3,4),dtype=int)\n",
    "b = np.random.randint(1,11, 4, dtype=int)\n",
    "c=np.dot(a,b)\n",
    "print(a)\n",
    "print(b)\n",
    "print(c)"
   ]
  },
  {
   "cell_type": "code",
   "execution_count": null,
   "id": "b31f926f-0b98-44ac-9edc-cf21afa35468",
   "metadata": {},
   "outputs": [],
   "source": [
    "11. Створіть матрицю розміром 2x3 та вектор розміром 3, заповніть їх випадковими дійсними числами в діапазоні від 0 до 1 та перемножте матрицю на вектор."
   ]
  },
  {
   "cell_type": "code",
   "execution_count": 25,
   "id": "00f40310-ab60-40c6-b546-c334321185df",
   "metadata": {},
   "outputs": [
    {
     "name": "stdout",
     "output_type": "stream",
     "text": [
      "[[0 0 0]\n",
      " [1 0 0]]\n",
      "[1 1 1]\n",
      "[0 1]\n"
     ]
    }
   ],
   "source": [
    "a = np.random.randint(0,2, (2,3),dtype=int)\n",
    "b = np.random.randint(0,2, 3, dtype=int)\n",
    "c=np.dot(a,b)\n",
    "print(a)\n",
    "print(b)\n",
    "print(c)"
   ]
  },
  {
   "cell_type": "code",
   "execution_count": null,
   "id": "009045ed-e35f-4fcf-9947-79315f9573e0",
   "metadata": {},
   "outputs": [],
   "source": [
    "12. Створіть дві матриці розміром 2x2, заповніть їх випадковими цілими числами в діапазоні від 1 до 10 та виконайте їхнє поелементне множення."
   ]
  },
  {
   "cell_type": "code",
   "execution_count": 26,
   "id": "c158b767-b985-427f-8a05-ca30c692a806",
   "metadata": {},
   "outputs": [
    {
     "name": "stdout",
     "output_type": "stream",
     "text": [
      "[[ 7  6]\n",
      " [10 10]]\n",
      "[[9 8]\n",
      " [2 4]]\n",
      "[[63 48]\n",
      " [20 40]]\n"
     ]
    }
   ],
   "source": [
    "a = np.random.randint(1,11, (2,2),dtype=int)\n",
    "b = np.random.randint(1,11, (2,2),dtype=int)\n",
    "c= a * b\n",
    "print(a)\n",
    "print(b)\n",
    "print(c)"
   ]
  },
  {
   "cell_type": "code",
   "execution_count": null,
   "id": "017b71ca-5824-4791-8209-423ed2653426",
   "metadata": {},
   "outputs": [],
   "source": [
    "13. Створіть дві матриці розміром 2x2, заповніть їх випадковими цілими числами в діапазоні від 1 до 10 та знайдіть їх добуток."
   ]
  },
  {
   "cell_type": "code",
   "execution_count": 27,
   "id": "69607e6a-f9a2-421d-a102-600f5f9dc32b",
   "metadata": {},
   "outputs": [
    {
     "name": "stdout",
     "output_type": "stream",
     "text": [
      "[[7 8]\n",
      " [2 3]]\n",
      "[[9 6]\n",
      " [6 6]]\n",
      "[[111  90]\n",
      " [ 36  30]]\n"
     ]
    }
   ],
   "source": [
    "a = np.random.randint(1,11, (2,2),dtype=int)\n",
    "b = np.random.randint(1,11, (2,2),dtype=int)\n",
    "c= np.dot(a,b)\n",
    "print(a)\n",
    "print(b)\n",
    "print(c)"
   ]
  },
  {
   "cell_type": "code",
   "execution_count": null,
   "id": "7b5f1251-6c36-472e-bda0-8d8572f27752",
   "metadata": {},
   "outputs": [],
   "source": [
    "14. Створіть матрицю розміром 5x5, заповніть її випадковими цілими числами в діапазоні від 1 до 100 та знайдіть суму елементів матриці."
   ]
  },
  {
   "cell_type": "code",
   "execution_count": 29,
   "id": "5ae4a194-c39b-4595-a185-06b9ac5468da",
   "metadata": {},
   "outputs": [
    {
     "name": "stdout",
     "output_type": "stream",
     "text": [
      "[[49 42 29 45 12]\n",
      " [65 13 49 28 34]\n",
      " [84 74 54  9 13]\n",
      " [16 51 47 79 78]\n",
      " [56 95 76 21 21]]\n",
      "1140\n"
     ]
    }
   ],
   "source": [
    "a = np.random.randint(1,101, (5,5),dtype=int)\n",
    "print(a)\n",
    "print(a.sum())"
   ]
  },
  {
   "cell_type": "code",
   "execution_count": null,
   "id": "76d9b160-34cc-4f21-b671-577be710ec06",
   "metadata": {},
   "outputs": [],
   "source": [
    "15. Створіть дві матриці розміром 4x4, заповніть їх випадковими цілими числами в діапазоні від 1 до 10 та знайдіть їхню різницю."
   ]
  },
  {
   "cell_type": "code",
   "execution_count": 31,
   "id": "6465427c-0589-4153-88cd-ae36e12daa7e",
   "metadata": {},
   "outputs": [
    {
     "name": "stdout",
     "output_type": "stream",
     "text": [
      "[[ 6  4  3  7]\n",
      " [ 2  9  5  3]\n",
      " [ 8  9 10  3]\n",
      " [ 4 10 10  3]]\n",
      "[[ 8  3  8  5]\n",
      " [10  1  7  2]\n",
      " [ 8  4  1  2]\n",
      " [ 8  3  3  3]]\n",
      "[[-2  1 -5  2]\n",
      " [-8  8 -2  1]\n",
      " [ 0  5  9  1]\n",
      " [-4  7  7  0]]\n"
     ]
    }
   ],
   "source": [
    "a = np.random.randint(1,11, (4,4),dtype=int)\n",
    "b = np.random.randint(1,11, (4,4),dtype=int)\n",
    "print(a)\n",
    "print(b)\n",
    "print(a-b)"
   ]
  },
  {
   "cell_type": "code",
   "execution_count": null,
   "id": "824be24b-a81a-42d7-befb-25347b0ac8d1",
   "metadata": {},
   "outputs": [],
   "source": [
    "16. Створіть матрицю розміром 3x3, заповніть її випадковими дійсними числами в діапазоні від 0 до 1 та знайдіть вектор-стовпчик, що містить суму елементів кожного рядка матриці."
   ]
  },
  {
   "cell_type": "code",
   "execution_count": 33,
   "id": "cbb859fc-4b0f-4319-b2e1-9a2d408eca82",
   "metadata": {},
   "outputs": [
    {
     "name": "stdout",
     "output_type": "stream",
     "text": [
      "[[0.80196193 0.39173208 0.48990517]\n",
      " [0.24174847 0.94521195 0.93055416]\n",
      " [0.8975832  0.11469087 0.6946421 ]]\n",
      "[1.68359918 2.11751457 1.70691617]\n"
     ]
    }
   ],
   "source": [
    "a = np.random.rand(3, 3)\n",
    "sum_vector = np.sum(a, axis=1)\n",
    "\n",
    "print(a)\n",
    "print(sum_vector)\n"
   ]
  },
  {
   "cell_type": "code",
   "execution_count": null,
   "id": "a1fba5aa-0a9e-4cf9-98d9-c0f09edb4b1d",
   "metadata": {},
   "outputs": [],
   "source": [
    "17. Створіть матрицю розміром 3x4 з довільними цілими числами і створінь матрицю з квадратами цих чисел."
   ]
  },
  {
   "cell_type": "code",
   "execution_count": 42,
   "id": "d666eae9-32f1-4715-9fb6-59005ed9d82e",
   "metadata": {},
   "outputs": [
    {
     "name": "stdout",
     "output_type": "stream",
     "text": [
      "[0 2]\n",
      "[0 4]\n"
     ]
    }
   ],
   "source": [
    "a = np.random.randint((3, 4), dtype=int)\n",
    "b = a ** 2\n",
    "print(a)\n",
    "print(b)"
   ]
  },
  {
   "cell_type": "code",
   "execution_count": null,
   "id": "02432d67-6779-4952-bd8f-be07bbfccd4c",
   "metadata": {},
   "outputs": [],
   "source": [
    "18. Створіть вектор розміром 4, заповніть його випадковими цілими числами в діапазоні від 1 до 50 та знайдіть вектор з квадратними коренями цих чисел."
   ]
  },
  {
   "cell_type": "code",
   "execution_count": 44,
   "id": "13cf6abc-4bec-4a51-87d7-4ab783b2a3d9",
   "metadata": {},
   "outputs": [
    {
     "name": "stdout",
     "output_type": "stream",
     "text": [
      "[15 46 41 42]\n",
      "[3.87298335 6.78232998 6.40312424 6.4807407 ]\n"
     ]
    }
   ],
   "source": [
    "a = np.random.randint(1, 51, 4)\n",
    "b = a **0.5\n",
    "print(a)\n",
    "print(b)\n"
   ]
  },
  {
   "cell_type": "code",
   "execution_count": null,
   "id": "c6195ea6-fd68-44d7-8869-632ad46c7dc0",
   "metadata": {},
   "outputs": [],
   "source": []
  }
 ],
 "metadata": {
  "kernelspec": {
   "display_name": "Python 3 (ipykernel)",
   "language": "python",
   "name": "python3"
  },
  "language_info": {
   "codemirror_mode": {
    "name": "ipython",
    "version": 3
   },
   "file_extension": ".py",
   "mimetype": "text/x-python",
   "name": "python",
   "nbconvert_exporter": "python",
   "pygments_lexer": "ipython3",
   "version": "3.11.2"
  }
 },
 "nbformat": 4,
 "nbformat_minor": 5
}
